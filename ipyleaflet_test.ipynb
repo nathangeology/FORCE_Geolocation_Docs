{
 "cells": [
  {
   "cell_type": "code",
   "execution_count": 1,
   "metadata": {},
   "outputs": [],
   "source": [
    "import os\n",
    "os.path.join('/home/nathanieljones/PycharmProjects/FORCE_Geolocation_Docs/')\n",
    "import altair as alt\n",
    "from data_load_functions import *\n",
    "# import folium\n",
    "import geopandas as gpd\n",
    "# from folium.plugins import MarkerCluster\n",
    "import numpy as np\n",
    "from ipyleaflet import Polygon, Map, basemaps, basemap_to_tiles, GeoJSON, MarkerCluster, LayersControl, FullScreenControl\n",
    "from ipywidgets import RadioButtons\n",
    "import json\n",
    "from viz_funcs import *\n",
    "import pickle\n",
    "file_path = \"joined_dfs.pkl\"\n",
    "with open(file_path,\"rb\") as f:\n",
    "    final_dataframe = pickle.load(f)\n",
    "check_cols = list(final_dataframe.columns[-9:])\n"
   ]
  },
  {
   "cell_type": "code",
   "execution_count": 2,
   "metadata": {},
   "outputs": [
    {
     "name": "stderr",
     "output_type": "stream",
     "text": [
      "/Users/anne/Desktop/FORCE_hackathon2019/FORCE_Geolocation_Docs/viz_funcs.py:27: FutureWarning: Sorting because non-concatenation axis is not aligned. A future version\n",
      "of pandas will change to not sort by default.\n",
      "\n",
      "To accept the future behavior, pass 'sort=False'.\n",
      "\n",
      "To retain the current behavior and silence the warning, pass 'sort=True'.\n",
      "\n",
      "  geo_table = gpd.GeoDataFrame(pd.concat(append_tables, ignore_index=True))\n"
     ]
    },
    {
     "data": {
      "application/vnd.jupyter.widget-view+json": {
       "model_id": "3ce4cb48da504ecea3d46e5b9b842d28",
       "version_major": 2,
       "version_minor": 0
      },
      "text/plain": [
       "Map(basemap={'url': 'https://{s}.tile.openstreetmap.org/{z}/{x}/{y}.png', 'max_zoom': 19, 'attribution': 'Map …"
      ]
     },
     "metadata": {},
     "output_type": "display_data"
    }
   ],
   "source": [
    "map_dict = get_prepped_dfs()\n",
    "structures_map = map_dict['structures']\n",
    "fields_map = map_dict['fields']\n",
    "blocks_map = map_dict['blocks']\n",
    "subareas_map = map_dict['sub_areas']\n",
    "discoveries_map = map_dict['discoveries']\n",
    "facilities_map = map_dict['facilities']\n",
    "m = Map(\n",
    "    layers=(basemap_to_tiles(basemaps.Esri.WorldTopoMap), ),\n",
    "    center=(60.5, 5),\n",
    "    zoom=4,\n",
    "    figsize=(10,15)\n",
    ")\n",
    "structure_layer = create_layer(structures_map, 'structures',\n",
    "                               label_col='steNameEN', secondary_label_col='document',\n",
    "                               layer_type='polygon', filter_on='document', inverse=True, color='lightGray')\n",
    "structure_layer_docs = create_layer(structures_map, 'structures_docs',\n",
    "                               label_col='steNameEN', secondary_label_col='document',\n",
    "                               layer_type='polygon', filter_on='document', color='orange')\n",
    "fields_layer = create_layer(fields_map, 'fields',\n",
    "                               label_col='FIELDNAME', secondary_label_col='document',\n",
    "                               layer_type='polygon', filter_on='document', inverse=True, color='lightGray')\n",
    "fields_layer_docs = create_layer(fields_map, 'fields_docs',\n",
    "                               label_col='FIELDNAME', secondary_label_col='document',\n",
    "                               layer_type='polygon', filter_on='document', color='red')\n",
    "subareas_layer = create_layer(subareas_map, 'subareas',\n",
    "                               label_col='NAME', secondary_label_col='document',\n",
    "                               layer_type='polygon', filter_on='document', inverse=True, color='lightGray')\n",
    "subareas_layer_docs = create_layer(subareas_map, 'subareas_docs',\n",
    "                               label_col='NAME', secondary_label_col='document',\n",
    "                               layer_type='polygon', filter_on='document', color='blue')\n",
    "discoveries_layer = create_layer(discoveries_map, 'discoveries',\n",
    "                               label_col='DISCNAME', secondary_label_col='document',\n",
    "                               layer_type='polygon', filter_on='document', inverse=True, color='lightGray')\n",
    "discoveries_layer_docs = create_layer(discoveries_map, 'discoveries_docs',\n",
    "                               label_col='DISCNAME', secondary_label_col='document',\n",
    "                               layer_type='polygon', filter_on='document', color='green')\n",
    "facilities_layer = create_layer(facilities_map, 'facilities',\n",
    "                               label_col='FACNAME', secondary_label_col='document',\n",
    "                               layer_type='marker', filter_on='document', inverse=True, color='lightGray')\n",
    "facilities_layer_docs = create_layer(facilities_map, 'facilities_docs',\n",
    "                               label_col='FACNAME', secondary_label_col='document',\n",
    "                               layer_type='marker', filter_on='document', color='black')\n",
    "\n",
    "wells = map_dict['wells']\n",
    "well_layer = create_layer(wells, 'wells with docs',\n",
    "                          label_col='wlbWell', secondary_label_col='document',\n",
    "                          layer_type='marker', filter_on='document', color='red')\n",
    "well_layer_no_docs = create_layer(wells, 'wells with docs',\n",
    "                          label_col='wlbWell', secondary_label_col='document',\n",
    "                          layer_type='marker', filter_on='document', inverse=True, color='lightGray')\n",
    "\n",
    "marker_cluster = MarkerCluster(markers=well_layer.layers, name='Wells with Docs')\n",
    "marker_cluster2 = MarkerCluster(markers=well_layer_no_docs.layers, name='Wells without Docs')\n",
    "# marker_cluster.add_layer(well_layer)\n",
    "m.add_layer(structure_layer_docs)\n",
    "m.add_layer(structure_layer)\n",
    "m.add_layer(fields_layer_docs)\n",
    "m.add_layer(fields_layer)\n",
    "m.add_layer(subareas_layer)\n",
    "m.add_layer(subareas_layer_docs)\n",
    "m.add_layer(facilities_layer_docs)\n",
    "m.add_layer(facilities_layer)\n",
    "m.add_layer(discoveries_layer_docs)\n",
    "m.add_layer(discoveries_layer)\n",
    "m.add_layer(marker_cluster)\n",
    "m.add_layer(marker_cluster2)\n",
    "m.add_control(LayersControl())\n",
    "m.add_control(FullScreenControl())\n",
    "comments = []\n",
    "\n",
    "for i in check_cols:\n",
    "\n",
    "    comments.append(create_layer(final_dataframe[final_dataframe[i]!=\"Empty\"],\n",
    "                                 i, label_col='wlbWellbor', secondary_label_col=i, layer_type='marker',\n",
    "                                color='green'))\n",
    "\n",
    "    m.add_layer(comments[-1])\n",
    "m"
   ]
  },
  {
   "cell_type": "code",
   "execution_count": null,
   "metadata": {},
   "outputs": [],
   "source": [
    "final_dataframe.columns\n",
    "\n",
    "# for idx, row in structures_map.iterrows():\n",
    "#     if row['geometry'] is None:\n",
    "#         filter_list.append(False)\n",
    "#     elif str(type(row['geometry'])) == '<class \\'shapely.geometry.multipolygon.MultiPolygon\\'>':\n",
    "#         filter_list.append(False)\n",
    "#     else:\n",
    "#         filter_list.append(True)\n",
    "# structures_map = structures_map[filter_list]\n",
    "# structures_map = structures_map.to_crs(epsg=4326)\n",
    "# structures_map.to_file(\"structures.geojson\", driver='GeoJSON')\n",
    "\n",
    "# # for _, polygon in structures_map.iterrows():\n",
    "# #     current\n",
    "# with open(\"structures.geojson\", 'r') as f:\n",
    "#   structure_data = json.load(f)\n",
    "# structure_layer =  GeoJSON(data=structure_data , style = {'color': 'green', 'opacity':1, 'weight':1.9, 'dashArray':'9', 'fillOpacity':0.1})"
   ]
  },
  {
   "cell_type": "code",
   "execution_count": null,
   "metadata": {},
   "outputs": [],
   "source": []
  }
 ],
 "metadata": {
  "kernelspec": {
   "display_name": "Python 3",
   "language": "python",
   "name": "python3"
  },
  "language_info": {
   "codemirror_mode": {
    "name": "ipython",
    "version": 3
   },
   "file_extension": ".py",
   "mimetype": "text/x-python",
   "name": "python",
   "nbconvert_exporter": "python",
   "pygments_lexer": "ipython3",
   "version": "3.7.4"
  }
 },
 "nbformat": 4,
 "nbformat_minor": 4
}
