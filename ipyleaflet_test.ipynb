{
 "cells": [
  {
   "cell_type": "code",
   "execution_count": 1,
   "metadata": {},
   "outputs": [],
   "source": [
    "import os\n",
    "os.path.join('/home/nathanieljones/PycharmProjects/FORCE_Geolocation_Docs/')\n",
    "import altair as alt\n",
    "from data_load_functions import *\n",
    "# import folium\n",
    "import geopandas as gpd\n",
    "# from folium.plugins import MarkerCluster\n",
    "import numpy as np\n",
    "from ipyleaflet import Polygon, Map, basemaps, basemap_to_tiles, GeoJSON, MarkerCluster, LayersControl\n",
    "from ipywidgets import RadioButtons\n",
    "import json\n",
    "from viz_funcs import *\n"
   ]
  },
  {
   "cell_type": "code",
   "execution_count": null,
   "metadata": {
    "scrolled": false
   },
   "outputs": [],
   "source": [
    "map_dict = get_prepped_dfs()\n",
    "structures_map = map_dict['structures']\n",
    "fields_map = map_dict['fields']\n",
    "blocks_map = map_dict['blocks']\n",
    "subareas_map = map_dict['sub_areas']\n",
    "m = Map(\n",
    "    layers=(basemap_to_tiles(basemaps.Esri.WorldTopoMap), ),\n",
    "    center=(60.5, 5),\n",
    "    zoom=4\n",
    ")\n",
    "structure_layer = create_layer(structures_map, 'structures',\n",
    "                               label_col='steNameEN', secondary_label_col='document',\n",
    "                               layer_type='polygon', filter_on='document', inverse=True, color='gray')\n",
    "structure_layer_docs = create_layer(structures_map, 'structures_docs',\n",
    "                               label_col='steNameEN', secondary_label_col='document',\n",
    "                               layer_type='polygon', filter_on='document', color='orange')\n",
    "fields_layer = create_layer(fields_map, 'fields',\n",
    "                               label_col='FIELDNAME', secondary_label_col='document',\n",
    "                               layer_type='polygon', filter_on='document', inverse=True, color='gray')\n",
    "fields_layer_docs = create_layer(fields_map, 'fields_docs',\n",
    "                               label_col='FIELDNAME', secondary_label_col='document',\n",
    "                               layer_type='polygon', filter_on='document', color='red')\n",
    "subareas_layer = create_layer(subareas_map, 'subareas',\n",
    "                               label_col='NAME', secondary_label_col='document',\n",
    "                               layer_type='polygon', filter_on='document', inverse=True, color='gray')\n",
    "subareas_layer_docs = create_layer(subareas_map, 'subareas_docs',\n",
    "                               label_col='NAME', secondary_label_col='document',\n",
    "                               layer_type='polygon', filter_on='document', color='blue')\n",
    "\n",
    "wells = map_dict['wells']\n",
    "well_layer = create_layer(wells, 'wells with docs',\n",
    "                          label_col='wlbWell', secondary_label_col='document',\n",
    "                          layer_type='marker', filter_on='document', color='red')\n",
    "well_layer_no_docs = create_layer(wells, 'wells with docs',\n",
    "                          label_col='wlbWell', secondary_label_col='document',\n",
    "                          layer_type='marker', filter_on='document', inverse=True, color='gray')\n",
    "\n",
    "marker_cluster = MarkerCluster(markers=well_layer.layers, name='Wells with Docs')\n",
    "marker_cluster2 = MarkerCluster(markers=well_layer_no_docs.layers, name='Wells without Docs')\n",
    "# marker_cluster.add_layer(well_layer)\n",
    "m.add_layer(structure_layer)\n",
    "m.add_layer(structure_layer_docs)\n",
    "m.add_layer(fields_layer)\n",
    "m.add_layer(fields_layer_docs)\n",
    "m.add_layer(subareas_layer)\n",
    "m.add_layer(subareas_layer_docs)\n",
    "m.add_layer(marker_cluster)\n",
    "m.add_layer(marker_cluster2)\n",
    "m.add_control(LayersControl())\n",
    "m"
   ]
  },
  {
   "cell_type": "code",
   "execution_count": 3,
   "metadata": {},
   "outputs": [],
   "source": [
    "# filter_list = []\n",
    "# for idx, row in structures_map.iterrows():\n",
    "#     if row['geometry'] is None:\n",
    "#         filter_list.append(False)\n",
    "#     elif str(type(row['geometry'])) == '<class \\'shapely.geometry.multipolygon.MultiPolygon\\'>':\n",
    "#         filter_list.append(False)\n",
    "#     else:\n",
    "#         filter_list.append(True)\n",
    "# structures_map = structures_map[filter_list]\n",
    "# structures_map = structures_map.to_crs(epsg=4326)\n",
    "# structures_map.to_file(\"structures.geojson\", driver='GeoJSON')\n",
    "\n",
    "# # for _, polygon in structures_map.iterrows():\n",
    "# #     current\n",
    "# with open(\"structures.geojson\", 'r') as f:\n",
    "#   structure_data = json.load(f)\n",
    "# structure_layer =  GeoJSON(data=structure_data , style = {'color': 'green', 'opacity':1, 'weight':1.9, 'dashArray':'9', 'fillOpacity':0.1})"
   ]
  }
 ],
 "metadata": {
  "kernelspec": {
   "display_name": "Python 3",
   "language": "python",
   "name": "python3"
  },
  "language_info": {
   "codemirror_mode": {
    "name": "ipython",
    "version": 3
   },
   "file_extension": ".py",
   "mimetype": "text/x-python",
   "name": "python",
   "nbconvert_exporter": "python",
   "pygments_lexer": "ipython3",
   "version": "3.7.4"
  }
 },
 "nbformat": 4,
 "nbformat_minor": 1
}
