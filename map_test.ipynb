{
 "cells": [
  {
   "cell_type": "code",
   "execution_count": null,
   "metadata": {},
   "outputs": [],
   "source": [
    "import os\n",
    "os.path.join('/home/nathanieljones/PycharmProjects/FORCE_Geolocation_Docs/')\n",
    "import altair as alt\n",
    "from data_load_functions import *\n",
    "import folium\n",
    "import geopandas as gpd\n",
    "from folium.plugins import MarkerCluster\n",
    "import numpy as np"
   ]
  },
  {
   "cell_type": "code",
   "execution_count": null,
   "metadata": {},
   "outputs": [],
   "source": [
    "map_dict = create_npd_shapefile_dict()\n",
    "structures_map = map_dict['structures']\n",
    "print(structures_map.crs)\n",
    "filter_list = []\n",
    "for idx, row in structures_map.iterrows():\n",
    "    if row['geometry'] is None:\n",
    "        filter_list.append(False)\n",
    "    elif str(type(row['geometry'])) == '<class \\'shapely.geometry.multipolygon.MultiPolygon\\'>':\n",
    "        filter_list.append(False)\n",
    "    else:\n",
    "        filter_list.append(True)\n",
    "structures_map = structures_map[filter_list]\n",
    "structures_map = structures_map.to_crs(epsg=4326)\n",
    "structures_map.to_file(\"structures.geojson\", driver='GeoJSON')\n",
    "# map_dict['wells'].to_file(\"wells.geojson\", driver='GeoJSON')\n",
    "m = folium.Map(location=[60.5236, 5], zoom_start=6)\n",
    "# folium.GeoJson(\n",
    "#     'structures.geojson',\n",
    "#     name='structures'\n",
    "# ).add_to(m)\n",
    "print('added structure polys')\n",
    "\n",
    "wells_df = map_dict['wells']\n",
    "wells_df = wells_df.to_crs(epsg=4326)\n",
    "x = pd.DataFrame([wells_df.geometry.x, wells_df.geometry.y])\n",
    "# x.concat(wells_df.geometry.y.values, axis=1)\n",
    "print(x.shape)\n",
    "# y = wells_df.geometry.y.values\n",
    "# temp = np.concatenate(x,y, axis=0)\n",
    "# print(temp)\n",
    "mc = MarkerCluster(locations=x.T.values,\n",
    "                  name='wells').add_to(m)\n",
    "# wells_df.to_file(\"wells.geojson\", driver='GeoJSON')\n",
    "for idx, row in wells_df.iterrows():\n",
    "    mc.add_child(folium.Marker(location=[row.geometry.y, row.geometry.x], popup=row['wlbWell']))\n",
    "# folium.GeoJson(\n",
    "#     'wells.geojson',\n",
    "#     name='wells',\n",
    "#     zoom_start=4\n",
    "# ).add_to(m)\n",
    "# folium.LayerControl().add_to(m)\n",
    "print('added wells')\n",
    "m.add_child(mc)\n",
    "print('done')\n",
    "m"
   ]
  },
  {
   "cell_type": "code",
   "execution_count": null,
   "metadata": {},
   "outputs": [],
   "source": []
  }
 ],
 "metadata": {
  "kernelspec": {
   "display_name": "Python 3",
   "language": "python",
   "name": "python3"
  },
  "language_info": {
   "codemirror_mode": {
    "name": "ipython",
    "version": 3
   },
   "file_extension": ".py",
   "mimetype": "text/x-python",
   "name": "python",
   "nbconvert_exporter": "python",
   "pygments_lexer": "ipython3",
   "version": "3.7.4"
  }
 },
 "nbformat": 4,
 "nbformat_minor": 1
}
