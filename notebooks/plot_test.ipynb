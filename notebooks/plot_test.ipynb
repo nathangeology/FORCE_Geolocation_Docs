{
 "cells": [
  {
   "cell_type": "code",
   "execution_count": 24,
   "metadata": {},
   "outputs": [],
   "source": [
    "import pandas as pd\n",
    "import geopandas as gpd\n",
    "import plotly.graph_objects as go\n",
    "import plotly.express as px\n",
    "from shapely.geometry.multipolygon import MultiPolygon\n",
    "from shapely import wkt\n",
    "from shapely.geometry import Polygon\n",
    "import geoplot as gplt\n",
    "import geoplot.crs as gcrs"
   ]
  },
  {
   "cell_type": "code",
   "execution_count": 2,
   "metadata": {},
   "outputs": [
    {
     "data": {
      "text/plain": [
       "'/Users/anne/Desktop/FORCE_hackathon2019/FORCE_Geolocation_Docs/notebooks'"
      ]
     },
     "execution_count": 2,
     "metadata": {},
     "output_type": "execute_result"
    }
   ],
   "source": [
    "%pwd"
   ]
  },
  {
   "cell_type": "code",
   "execution_count": 3,
   "metadata": {},
   "outputs": [
    {
     "name": "stdout",
     "output_type": "stream",
     "text": [
      "here\n"
     ]
    }
   ],
   "source": [
    "if __name__ == \"__main__\":\n",
    "    npd_data = pd.read_csv('../sample_data/with-coordinates.csv', delimiter=';')\n",
    "    # npd_data.set_index(['wlbWellboreName'], drop=False)\n",
    "\n",
    "    fields_test = gpd.read_file('../sample_data/shapefiles/loc_npd_fields.shp')\n",
    "    print('here')"
   ]
  },
  {
   "cell_type": "code",
   "execution_count": 31,
   "metadata": {},
   "outputs": [
    {
     "data": {
      "text/html": [
       "<div>\n",
       "<style scoped>\n",
       "    .dataframe tbody tr th:only-of-type {\n",
       "        vertical-align: middle;\n",
       "    }\n",
       "\n",
       "    .dataframe tbody tr th {\n",
       "        vertical-align: top;\n",
       "    }\n",
       "\n",
       "    .dataframe thead th {\n",
       "        text-align: right;\n",
       "    }\n",
       "</style>\n",
       "<table border=\"1\" class=\"dataframe\">\n",
       "  <thead>\n",
       "    <tr style=\"text-align: right;\">\n",
       "      <th></th>\n",
       "      <th>OBJECTID</th>\n",
       "      <th>IDFIELD</th>\n",
       "      <th>FIELDNAME</th>\n",
       "      <th>IDDISCOVER</th>\n",
       "      <th>DISCNAME</th>\n",
       "      <th>MAPNUMBER</th>\n",
       "      <th>RESIDSCNME</th>\n",
       "      <th>IDINCINOTH</th>\n",
       "      <th>INC_IN_FLD</th>\n",
       "      <th>DSC_HCTYPE</th>\n",
       "      <th>...</th>\n",
       "      <th>fldRecov_4</th>\n",
       "      <th>fldRemaini</th>\n",
       "      <th>fldRemai_1</th>\n",
       "      <th>fldRemai_2</th>\n",
       "      <th>fldRemai_3</th>\n",
       "      <th>fldRemai_4</th>\n",
       "      <th>fldDateOff</th>\n",
       "      <th>fldNpdidFi</th>\n",
       "      <th>DatesyncNP</th>\n",
       "      <th>geometry</th>\n",
       "    </tr>\n",
       "  </thead>\n",
       "  <tbody>\n",
       "    <tr>\n",
       "      <td>0</td>\n",
       "      <td>1</td>\n",
       "      <td>18116481.0</td>\n",
       "      <td>GUDRUN</td>\n",
       "      <td>43880.0</td>\n",
       "      <td>15/3-1 S Gudrun</td>\n",
       "      <td>9.0</td>\n",
       "      <td>None</td>\n",
       "      <td>0.0</td>\n",
       "      <td>YES</td>\n",
       "      <td>GAS/CONDENSATE</td>\n",
       "      <td>...</td>\n",
       "      <td>29.56</td>\n",
       "      <td>6.30</td>\n",
       "      <td>3.86</td>\n",
       "      <td>0.57</td>\n",
       "      <td>0.0</td>\n",
       "      <td>11.24</td>\n",
       "      <td>2017-12-31</td>\n",
       "      <td>18116481</td>\n",
       "      <td>2018-11-09</td>\n",
       "      <td>(POLYGON ((426917.8820975518 6520445.886970246...</td>\n",
       "    </tr>\n",
       "    <tr>\n",
       "      <td>1</td>\n",
       "      <td>2</td>\n",
       "      <td>43625.0</td>\n",
       "      <td>OSEBERG</td>\n",
       "      <td>44408.0</td>\n",
       "      <td>30/6-15 Oseberg Vest</td>\n",
       "      <td>10.0</td>\n",
       "      <td>30/6-1 Oseberg</td>\n",
       "      <td>44396.0</td>\n",
       "      <td>YES</td>\n",
       "      <td>OIL/GAS</td>\n",
       "      <td>...</td>\n",
       "      <td>537.96</td>\n",
       "      <td>22.19</td>\n",
       "      <td>64.95</td>\n",
       "      <td>2.89</td>\n",
       "      <td>0.0</td>\n",
       "      <td>92.63</td>\n",
       "      <td>2017-12-31</td>\n",
       "      <td>43625</td>\n",
       "      <td>2018-11-09</td>\n",
       "      <td>(POLYGON ((486307.983376932 6710059.984499074,...</td>\n",
       "    </tr>\n",
       "    <tr>\n",
       "      <td>2</td>\n",
       "      <td>3</td>\n",
       "      <td>43444.0</td>\n",
       "      <td>TOMMELITEN GAMMA</td>\n",
       "      <td>43856.0</td>\n",
       "      <td>1/9-4 Tommeliten Gamma</td>\n",
       "      <td>17.0</td>\n",
       "      <td>None</td>\n",
       "      <td>0.0</td>\n",
       "      <td>YES</td>\n",
       "      <td>GAS/CONDENSATE</td>\n",
       "      <td>...</td>\n",
       "      <td>14.64</td>\n",
       "      <td>0.00</td>\n",
       "      <td>0.00</td>\n",
       "      <td>0.00</td>\n",
       "      <td>0.0</td>\n",
       "      <td>0.00</td>\n",
       "      <td>2017-12-31</td>\n",
       "      <td>43444</td>\n",
       "      <td>2018-11-09</td>\n",
       "      <td>POLYGON ((494736.471598152 6261565.697734931, ...</td>\n",
       "    </tr>\n",
       "    <tr>\n",
       "      <td>3</td>\n",
       "      <td>4</td>\n",
       "      <td>43541.0</td>\n",
       "      <td>EDDA</td>\n",
       "      <td>44150.0</td>\n",
       "      <td>2/7-4 Edda</td>\n",
       "      <td>18.0</td>\n",
       "      <td>None</td>\n",
       "      <td>0.0</td>\n",
       "      <td>YES</td>\n",
       "      <td>OIL</td>\n",
       "      <td>...</td>\n",
       "      <td>7.20</td>\n",
       "      <td>0.00</td>\n",
       "      <td>0.00</td>\n",
       "      <td>0.00</td>\n",
       "      <td>0.0</td>\n",
       "      <td>0.00</td>\n",
       "      <td>2017-12-31</td>\n",
       "      <td>43541</td>\n",
       "      <td>2018-11-09</td>\n",
       "      <td>(POLYGON ((507394.681498175 6256930.937786547,...</td>\n",
       "    </tr>\n",
       "    <tr>\n",
       "      <td>4</td>\n",
       "      <td>5</td>\n",
       "      <td>43800.0</td>\n",
       "      <td>ULA</td>\n",
       "      <td>44972.0</td>\n",
       "      <td>7/12-2 Ula</td>\n",
       "      <td>20.0</td>\n",
       "      <td>None</td>\n",
       "      <td>0.0</td>\n",
       "      <td>YES</td>\n",
       "      <td>OIL</td>\n",
       "      <td>...</td>\n",
       "      <td>93.11</td>\n",
       "      <td>8.59</td>\n",
       "      <td>0.00</td>\n",
       "      <td>0.39</td>\n",
       "      <td>0.0</td>\n",
       "      <td>9.33</td>\n",
       "      <td>2017-12-31</td>\n",
       "      <td>43800</td>\n",
       "      <td>2018-11-09</td>\n",
       "      <td>POLYGON ((491967.5274473843 6325001.752520611,...</td>\n",
       "    </tr>\n",
       "  </tbody>\n",
       "</table>\n",
       "<p>5 rows × 33 columns</p>\n",
       "</div>"
      ],
      "text/plain": [
       "   OBJECTID     IDFIELD         FIELDNAME  IDDISCOVER                DISCNAME  \\\n",
       "0         1  18116481.0            GUDRUN     43880.0         15/3-1 S Gudrun   \n",
       "1         2     43625.0           OSEBERG     44408.0    30/6-15 Oseberg Vest   \n",
       "2         3     43444.0  TOMMELITEN GAMMA     43856.0  1/9-4 Tommeliten Gamma   \n",
       "3         4     43541.0              EDDA     44150.0              2/7-4 Edda   \n",
       "4         5     43800.0               ULA     44972.0              7/12-2 Ula   \n",
       "\n",
       "   MAPNUMBER      RESIDSCNME  IDINCINOTH INC_IN_FLD      DSC_HCTYPE  ...  \\\n",
       "0        9.0            None         0.0        YES  GAS/CONDENSATE  ...   \n",
       "1       10.0  30/6-1 Oseberg     44396.0        YES         OIL/GAS  ...   \n",
       "2       17.0            None         0.0        YES  GAS/CONDENSATE  ...   \n",
       "3       18.0            None         0.0        YES             OIL  ...   \n",
       "4       20.0            None         0.0        YES             OIL  ...   \n",
       "\n",
       "  fldRecov_4 fldRemaini fldRemai_1 fldRemai_2 fldRemai_3 fldRemai_4  \\\n",
       "0      29.56       6.30       3.86       0.57        0.0      11.24   \n",
       "1     537.96      22.19      64.95       2.89        0.0      92.63   \n",
       "2      14.64       0.00       0.00       0.00        0.0       0.00   \n",
       "3       7.20       0.00       0.00       0.00        0.0       0.00   \n",
       "4      93.11       8.59       0.00       0.39        0.0       9.33   \n",
       "\n",
       "   fldDateOff  fldNpdidFi  DatesyncNP  \\\n",
       "0  2017-12-31    18116481  2018-11-09   \n",
       "1  2017-12-31       43625  2018-11-09   \n",
       "2  2017-12-31       43444  2018-11-09   \n",
       "3  2017-12-31       43541  2018-11-09   \n",
       "4  2017-12-31       43800  2018-11-09   \n",
       "\n",
       "                                            geometry  \n",
       "0  (POLYGON ((426917.8820975518 6520445.886970246...  \n",
       "1  (POLYGON ((486307.983376932 6710059.984499074,...  \n",
       "2  POLYGON ((494736.471598152 6261565.697734931, ...  \n",
       "3  (POLYGON ((507394.681498175 6256930.937786547,...  \n",
       "4  POLYGON ((491967.5274473843 6325001.752520611,...  \n",
       "\n",
       "[5 rows x 33 columns]"
      ]
     },
     "execution_count": 31,
     "metadata": {},
     "output_type": "execute_result"
    }
   ],
   "source": [
    "fields_test.head()"
   ]
  },
  {
   "cell_type": "code",
   "execution_count": null,
   "metadata": {},
   "outputs": [],
   "source": []
  },
  {
   "cell_type": "code",
   "execution_count": null,
   "metadata": {},
   "outputs": [],
   "source": []
  },
  {
   "cell_type": "code",
   "execution_count": 32,
   "metadata": {},
   "outputs": [
    {
     "data": {
      "text/plain": [
       "(263, 33)"
      ]
     },
     "execution_count": 32,
     "metadata": {},
     "output_type": "execute_result"
    }
   ],
   "source": [
    "fields_test.shape"
   ]
  },
  {
   "cell_type": "code",
   "execution_count": 11,
   "metadata": {},
   "outputs": [
    {
     "data": {
      "text/plain": [
       "OBJECTID        int64\n",
       "IDFIELD       float64\n",
       "FIELDNAME      object\n",
       "IDDISCOVER    float64\n",
       "DISCNAME       object\n",
       "MAPNUMBER     float64\n",
       "RESIDSCNME     object\n",
       "IDINCINOTH    float64\n",
       "INC_IN_FLD     object\n",
       "DSC_HCTYPE     object\n",
       "FLD_HCTYPE     object\n",
       "DSCACTSTAT     object\n",
       "FLDACTSTAT     object\n",
       "LABEL          object\n",
       "FACTURL        object\n",
       "FIELDURL       object\n",
       "Shape_Leng    float64\n",
       "Shape_Area    float64\n",
       "fldName        object\n",
       "fldRecover    float64\n",
       "fldRecov_1    float64\n",
       "fldRecov_2    float64\n",
       "fldRecov_3    float64\n",
       "fldRecov_4    float64\n",
       "fldRemaini    float64\n",
       "fldRemai_1    float64\n",
       "fldRemai_2    float64\n",
       "fldRemai_3    float64\n",
       "fldRemai_4    float64\n",
       "fldDateOff     object\n",
       "fldNpdidFi      int64\n",
       "DatesyncNP     object\n",
       "geometry       object\n",
       "dtype: object"
      ]
     },
     "execution_count": 11,
     "metadata": {},
     "output_type": "execute_result"
    }
   ],
   "source": [
    "fields_test.dtypes"
   ]
  },
  {
   "cell_type": "code",
   "execution_count": null,
   "metadata": {},
   "outputs": [],
   "source": [
    "# polygon_test.to_file(filename='polygon.geojson', driver='GeoJSON')\n",
    "# polygon_test.to_file(filename='polygon.shp', driver=\"ESRI Shapefile\")"
   ]
  },
  {
   "cell_type": "code",
   "execution_count": 6,
   "metadata": {},
   "outputs": [
    {
     "data": {
      "text/plain": [
       "geopandas.geodataframe.GeoDataFrame"
      ]
     },
     "execution_count": 6,
     "metadata": {},
     "output_type": "execute_result"
    }
   ],
   "source": [
    "type(fields_test)"
   ]
  },
  {
   "cell_type": "code",
   "execution_count": 27,
   "metadata": {},
   "outputs": [
    {
     "data": {
      "text/plain": [
       "<matplotlib.axes._subplots.AxesSubplot at 0x1a31c35c50>"
      ]
     },
     "execution_count": 27,
     "metadata": {},
     "output_type": "execute_result"
    },
    {
     "data": {
      "image/png": "[encoded data removed]",
      "text/plain": [
       "<Figure size 576x432 with 1 Axes>"
      ]
     },
     "metadata": {
      "needs_background": "light"
     },
     "output_type": "display_data"
    }
   ],
   "source": [
    "gplt.polyplot(fields_test)"
   ]
  },
  {
   "cell_type": "code",
   "execution_count": 30,
   "metadata": {},
   "outputs": [
    {
     "ename": "GeometryTypeValidationError",
     "evalue": "Record's geometry type does not match collection schema's geometry type: 'MultiPolygon' != 'Polygon'",
     "output_type": "error",
     "traceback": [
      "\u001b[0;31m---------------------------------------------------------------------------\u001b[0m",
      "\u001b[0;31mGeometryTypeValidationError\u001b[0m               Traceback (most recent call last)",
      "\u001b[0;32m<ipython-input-30-b89bd7aee88d>\u001b[0m in \u001b[0;36m<module>\u001b[0;34m\u001b[0m\n\u001b[0;32m----> 1\u001b[0;31m \u001b[0mfields_test\u001b[0m\u001b[0;34m.\u001b[0m\u001b[0mto_file\u001b[0m\u001b[0;34m(\u001b[0m\u001b[0;34m'fields_test.geojson'\u001b[0m\u001b[0;34m,\u001b[0m \u001b[0mdriver\u001b[0m\u001b[0;34m=\u001b[0m\u001b[0;34m'GeoJSON'\u001b[0m\u001b[0;34m)\u001b[0m\u001b[0;34m\u001b[0m\u001b[0;34m\u001b[0m\u001b[0m\n\u001b[0m",
      "\u001b[0;32m/anaconda3/envs/python37/lib/python3.7/site-packages/geopandas/geodataframe.py\u001b[0m in \u001b[0;36mto_file\u001b[0;34m(self, filename, driver, schema, **kwargs)\u001b[0m\n\u001b[1;32m    411\u001b[0m         \"\"\"\n\u001b[1;32m    412\u001b[0m         \u001b[0;32mfrom\u001b[0m \u001b[0mgeopandas\u001b[0m\u001b[0;34m.\u001b[0m\u001b[0mio\u001b[0m\u001b[0;34m.\u001b[0m\u001b[0mfile\u001b[0m \u001b[0;32mimport\u001b[0m \u001b[0mto_file\u001b[0m\u001b[0;34m\u001b[0m\u001b[0;34m\u001b[0m\u001b[0m\n\u001b[0;32m--> 413\u001b[0;31m         \u001b[0mto_file\u001b[0m\u001b[0;34m(\u001b[0m\u001b[0mself\u001b[0m\u001b[0;34m,\u001b[0m \u001b[0mfilename\u001b[0m\u001b[0;34m,\u001b[0m \u001b[0mdriver\u001b[0m\u001b[0;34m,\u001b[0m \u001b[0mschema\u001b[0m\u001b[0;34m,\u001b[0m \u001b[0;34m**\u001b[0m\u001b[0mkwargs\u001b[0m\u001b[0;34m)\u001b[0m\u001b[0;34m\u001b[0m\u001b[0;34m\u001b[0m\u001b[0m\n\u001b[0m\u001b[1;32m    414\u001b[0m \u001b[0;34m\u001b[0m\u001b[0m\n\u001b[1;32m    415\u001b[0m     \u001b[0;32mdef\u001b[0m \u001b[0mto_crs\u001b[0m\u001b[0;34m(\u001b[0m\u001b[0mself\u001b[0m\u001b[0;34m,\u001b[0m \u001b[0mcrs\u001b[0m\u001b[0;34m=\u001b[0m\u001b[0;32mNone\u001b[0m\u001b[0;34m,\u001b[0m \u001b[0mepsg\u001b[0m\u001b[0;34m=\u001b[0m\u001b[0;32mNone\u001b[0m\u001b[0;34m,\u001b[0m \u001b[0minplace\u001b[0m\u001b[0;34m=\u001b[0m\u001b[0;32mFalse\u001b[0m\u001b[0;34m)\u001b[0m\u001b[0;34m:\u001b[0m\u001b[0;34m\u001b[0m\u001b[0;34m\u001b[0m\u001b[0m\n",
      "\u001b[0;32m/anaconda3/envs/python37/lib/python3.7/site-packages/geopandas/io/file.py\u001b[0m in \u001b[0;36mto_file\u001b[0;34m(df, filename, driver, schema, **kwargs)\u001b[0m\n\u001b[1;32m    115\u001b[0m         with fiona.open(filename, 'w', driver=driver, crs=df.crs,\n\u001b[1;32m    116\u001b[0m                         schema=schema, **kwargs) as colxn:\n\u001b[0;32m--> 117\u001b[0;31m             \u001b[0mcolxn\u001b[0m\u001b[0;34m.\u001b[0m\u001b[0mwriterecords\u001b[0m\u001b[0;34m(\u001b[0m\u001b[0mdf\u001b[0m\u001b[0;34m.\u001b[0m\u001b[0miterfeatures\u001b[0m\u001b[0;34m(\u001b[0m\u001b[0;34m)\u001b[0m\u001b[0;34m)\u001b[0m\u001b[0;34m\u001b[0m\u001b[0;34m\u001b[0m\u001b[0m\n\u001b[0m\u001b[1;32m    118\u001b[0m \u001b[0;34m\u001b[0m\u001b[0m\n\u001b[1;32m    119\u001b[0m \u001b[0;34m\u001b[0m\u001b[0m\n",
      "\u001b[0;32m/anaconda3/envs/python37/lib/python3.7/site-packages/fiona/collection.py\u001b[0m in \u001b[0;36mwriterecords\u001b[0;34m(self, records)\u001b[0m\n\u001b[1;32m    347\u001b[0m         \u001b[0;32mif\u001b[0m \u001b[0mself\u001b[0m\u001b[0;34m.\u001b[0m\u001b[0mmode\u001b[0m \u001b[0;32mnot\u001b[0m \u001b[0;32min\u001b[0m \u001b[0;34m(\u001b[0m\u001b[0;34m'a'\u001b[0m\u001b[0;34m,\u001b[0m \u001b[0;34m'w'\u001b[0m\u001b[0;34m)\u001b[0m\u001b[0;34m:\u001b[0m\u001b[0;34m\u001b[0m\u001b[0;34m\u001b[0m\u001b[0m\n\u001b[1;32m    348\u001b[0m             \u001b[0;32mraise\u001b[0m \u001b[0mIOError\u001b[0m\u001b[0;34m(\u001b[0m\u001b[0;34m\"collection not open for writing\"\u001b[0m\u001b[0;34m)\u001b[0m\u001b[0;34m\u001b[0m\u001b[0;34m\u001b[0m\u001b[0m\n\u001b[0;32m--> 349\u001b[0;31m         \u001b[0mself\u001b[0m\u001b[0;34m.\u001b[0m\u001b[0msession\u001b[0m\u001b[0;34m.\u001b[0m\u001b[0mwriterecs\u001b[0m\u001b[0;34m(\u001b[0m\u001b[0mrecords\u001b[0m\u001b[0;34m,\u001b[0m \u001b[0mself\u001b[0m\u001b[0;34m)\u001b[0m\u001b[0;34m\u001b[0m\u001b[0;34m\u001b[0m\u001b[0m\n\u001b[0m\u001b[1;32m    350\u001b[0m         \u001b[0mself\u001b[0m\u001b[0;34m.\u001b[0m\u001b[0m_len\u001b[0m \u001b[0;34m=\u001b[0m \u001b[0mself\u001b[0m\u001b[0;34m.\u001b[0m\u001b[0msession\u001b[0m\u001b[0;34m.\u001b[0m\u001b[0mget_length\u001b[0m\u001b[0;34m(\u001b[0m\u001b[0;34m)\u001b[0m\u001b[0;34m\u001b[0m\u001b[0;34m\u001b[0m\u001b[0m\n\u001b[1;32m    351\u001b[0m         \u001b[0mself\u001b[0m\u001b[0;34m.\u001b[0m\u001b[0m_bounds\u001b[0m \u001b[0;34m=\u001b[0m \u001b[0mself\u001b[0m\u001b[0;34m.\u001b[0m\u001b[0msession\u001b[0m\u001b[0;34m.\u001b[0m\u001b[0mget_extent\u001b[0m\u001b[0;34m(\u001b[0m\u001b[0;34m)\u001b[0m\u001b[0;34m\u001b[0m\u001b[0;34m\u001b[0m\u001b[0m\n",
      "\u001b[0;32mfiona/ogrext.pyx\u001b[0m in \u001b[0;36mfiona.ogrext.WritingSession.writerecs\u001b[0;34m()\u001b[0m\n",
      "\u001b[0;31mGeometryTypeValidationError\u001b[0m: Record's geometry type does not match collection schema's geometry type: 'MultiPolygon' != 'Polygon'"
     ]
    }
   ],
   "source": [
    "fields_test.to_file('fields_test.geojson', driver='GeoJSON')"
   ]
  },
  {
   "cell_type": "code",
   "execution_count": null,
   "metadata": {},
   "outputs": [],
   "source": []
  },
  {
   "cell_type": "code",
   "execution_count": null,
   "metadata": {},
   "outputs": [],
   "source": []
  },
  {
   "cell_type": "code",
   "execution_count": null,
   "metadata": {},
   "outputs": [],
   "source": []
  },
  {
   "cell_type": "code",
   "execution_count": null,
   "metadata": {},
   "outputs": [],
   "source": []
  },
  {
   "cell_type": "code",
   "execution_count": null,
   "metadata": {},
   "outputs": [],
   "source": []
  },
  {
   "cell_type": "code",
   "execution_count": null,
   "metadata": {},
   "outputs": [],
   "source": [
    "# gplt.polyplot(boroughs, projection=gcrs.AlbersEqualArea())"
   ]
  },
  {
   "cell_type": "code",
   "execution_count": 11,
   "metadata": {},
   "outputs": [
    {
     "data": {
      "text/plain": [
       "{'init': 'epsg:23031'}"
      ]
     },
     "execution_count": 11,
     "metadata": {},
     "output_type": "execute_result"
    }
   ],
   "source": [
    "fields_test.crs"
   ]
  },
  {
   "cell_type": "code",
   "execution_count": 23,
   "metadata": {},
   "outputs": [
    {
     "data": {
      "text/plain": [
       "<matplotlib.axes._subplots.AxesSubplot at 0x1a2f080050>"
      ]
     },
     "execution_count": 23,
     "metadata": {},
     "output_type": "execute_result"
    },
    {
     "data": {
      "image/png": "[encoded data removed]",
      "text/plain": [
       "<Figure size 864x3600 with 1 Axes>"
      ]
     },
     "metadata": {
      "needs_background": "light"
     },
     "output_type": "display_data"
    }
   ],
   "source": [
    "fields_test.plot(figsize=(12,50))"
   ]
  },
  {
   "cell_type": "code",
   "execution_count": 26,
   "metadata": {},
   "outputs": [],
   "source": [
    "#gapminder = px.data.gapminder().query(\"year==2007\")\n",
    "#fig = px.choropleth(gapminder, locations=\"iso_alpha\",\n",
    "#                    color=\"lifeExp\", # lifeExp is a column of gapminder\n",
    "#                    hover_name=\"country\", # column to add to hover information\n",
    "#                    color_continuous_scale=px.colors.sequential.Plasma)\n",
    "#fig.show()"
   ]
  },
  {
   "cell_type": "code",
   "execution_count": null,
   "metadata": {},
   "outputs": [],
   "source": []
  }
 ],
 "metadata": {
  "kernelspec": {
   "display_name": "Python 3",
   "language": "python",
   "name": "python3"
  },
  "language_info": {
   "codemirror_mode": {
    "name": "ipython",
    "version": 3
   },
   "file_extension": ".py",
   "mimetype": "text/x-python",
   "name": "python",
   "nbconvert_exporter": "python",
   "pygments_lexer": "ipython3",
   "version": "3.7.4"
  }
 },
 "nbformat": 4,
 "nbformat_minor": 4
}
